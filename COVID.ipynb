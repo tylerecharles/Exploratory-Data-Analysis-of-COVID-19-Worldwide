{
 "cells": [
  {
   "cell_type": "markdown",
   "metadata": {},
   "source": [
    "## Exploratory Data Analysis of Worldwide COVID-19 Cases From OurWorldInData"
   ]
  },
  {
   "cell_type": "code",
   "execution_count": 1,
   "metadata": {},
   "outputs": [],
   "source": [
    "#Imports\n",
    "import requests\n",
    "import pandas as pd\n",
    "import matplotlib.pyplot as plt\n",
    "import seaborn as sns"
   ]
  },
  {
   "cell_type": "code",
   "execution_count": 2,
   "metadata": {},
   "outputs": [],
   "source": [
    "#Use the requests library to perform a GET request from ourworldindata, and write the data to a csv file\n",
    "filename = 'covid-data.csv'\n",
    "data_url = 'https://covid.ourworldindata.org/data/owid-covid-data.csv'\n",
    "data_content = requests.get(data_url).content\n",
    "csv_file = open(filename, 'wb')\n",
    "csv_file.write(data_content)\n",
    "csv_file.close()"
   ]
  },
  {
   "cell_type": "code",
   "execution_count": 3,
   "metadata": {},
   "outputs": [],
   "source": [
    "#Create pandas dataframe from the csv file\n",
    "df = pd.read_csv(filename)"
   ]
  },
  {
   "cell_type": "code",
   "execution_count": 4,
   "metadata": {},
   "outputs": [
    {
     "name": "stdout",
     "output_type": "stream",
     "text": [
      "<class 'pandas.core.frame.DataFrame'>\n",
      "RangeIndex: 56111 entries, 0 to 56110\n",
      "Data columns (total 49 columns):\n",
      " #   Column                              Non-Null Count  Dtype  \n",
      "---  ------                              --------------  -----  \n",
      " 0   iso_code                            55794 non-null  object \n",
      " 1   continent                           55477 non-null  object \n",
      " 2   location                            56111 non-null  object \n",
      " 3   date                                56111 non-null  object \n",
      " 4   total_cases                         52472 non-null  float64\n",
      " 5   new_cases                           55177 non-null  float64\n",
      " 6   new_cases_smoothed                  54376 non-null  float64\n",
      " 7   total_deaths                        43208 non-null  float64\n",
      " 8   new_deaths                          55177 non-null  float64\n",
      " 9   new_deaths_smoothed                 54376 non-null  float64\n",
      " 10  total_cases_per_million             52191 non-null  float64\n",
      " 11  new_cases_per_million               55113 non-null  float64\n",
      " 12  new_cases_smoothed_per_million      54311 non-null  float64\n",
      " 13  total_deaths_per_million            42942 non-null  float64\n",
      " 14  new_deaths_per_million              55113 non-null  float64\n",
      " 15  new_deaths_smoothed_per_million     54311 non-null  float64\n",
      " 16  icu_patients                        4101 non-null   float64\n",
      " 17  icu_patients_per_million            4101 non-null   float64\n",
      " 18  hosp_patients                       4801 non-null   float64\n",
      " 19  hosp_patients_per_million           4801 non-null   float64\n",
      " 20  weekly_icu_admissions               364 non-null    float64\n",
      " 21  weekly_icu_admissions_per_million   364 non-null    float64\n",
      " 22  weekly_hosp_admissions              603 non-null    float64\n",
      " 23  weekly_hosp_admissions_per_million  603 non-null    float64\n",
      " 24  total_tests                         21231 non-null  float64\n",
      " 25  new_tests                           20973 non-null  float64\n",
      " 26  total_tests_per_thousand            21231 non-null  float64\n",
      " 27  new_tests_per_thousand              20973 non-null  float64\n",
      " 28  new_tests_smoothed                  23707 non-null  float64\n",
      " 29  new_tests_smoothed_per_thousand     23707 non-null  float64\n",
      " 30  tests_per_case                      21957 non-null  float64\n",
      " 31  positive_rate                       22323 non-null  float64\n",
      " 32  tests_units                         24637 non-null  object \n",
      " 33  stringency_index                    46577 non-null  float64\n",
      " 34  population                          55794 non-null  float64\n",
      " 35  population_density                  53166 non-null  float64\n",
      " 36  median_age                          49913 non-null  float64\n",
      " 37  aged_65_older                       49162 non-null  float64\n",
      " 38  aged_70_older                       49653 non-null  float64\n",
      " 39  gdp_per_capita                      49258 non-null  float64\n",
      " 40  extreme_poverty                     32830 non-null  float64\n",
      " 41  cardiovasc_death_rate               49886 non-null  float64\n",
      " 42  diabetes_prevalence                 51712 non-null  float64\n",
      " 43  female_smokers                      38824 non-null  float64\n",
      " 44  male_smokers                        38323 non-null  float64\n",
      " 45  handwashing_facilities              23606 non-null  float64\n",
      " 46  hospital_beds_per_thousand          44941 non-null  float64\n",
      " 47  life_expectancy                     55077 non-null  float64\n",
      " 48  human_development_index             48162 non-null  float64\n",
      "dtypes: float64(44), object(5)\n",
      "memory usage: 21.0+ MB\n"
     ]
    }
   ],
   "source": [
    "#Check pandas dataframe\n",
    "df.info()"
   ]
  },
  {
   "cell_type": "code",
   "execution_count": 5,
   "metadata": {},
   "outputs": [],
   "source": [
    "#Calculate Total Cases by Location\n",
    "total_cases = df.groupby('location')['new_cases'].sum()\n",
    "total_cases = total_cases.sort_values(ascending=False)\n",
    "\n",
    "#Establish 10 Worst Affected Countries\n",
    "worst_countries = total_cases[1:11].index\n",
    "cases = total_cases[1:11].values\n",
    "\n",
    "#Calculate Total Deaths by Location\n",
    "total_deaths = df.groupby('location')['new_deaths'].sum()\n",
    "deaths = total_deaths[worst_countries].values "
   ]
  },
  {
   "cell_type": "code",
   "execution_count": 6,
   "metadata": {},
   "outputs": [
    {
     "data": {
      "text/html": [
       "<div>\n",
       "<style scoped>\n",
       "    .dataframe tbody tr th:only-of-type {\n",
       "        vertical-align: middle;\n",
       "    }\n",
       "\n",
       "    .dataframe tbody tr th {\n",
       "        vertical-align: top;\n",
       "    }\n",
       "\n",
       "    .dataframe thead th {\n",
       "        text-align: right;\n",
       "    }\n",
       "</style>\n",
       "<table border=\"1\" class=\"dataframe\">\n",
       "  <thead>\n",
       "    <tr style=\"text-align: right;\">\n",
       "      <th></th>\n",
       "      <th>Country</th>\n",
       "      <th>Total Cases</th>\n",
       "      <th>Total Deaths</th>\n",
       "    </tr>\n",
       "  </thead>\n",
       "  <tbody>\n",
       "    <tr>\n",
       "      <th>0</th>\n",
       "      <td>United States</td>\n",
       "      <td>10257826.0</td>\n",
       "      <td>239683.0</td>\n",
       "    </tr>\n",
       "    <tr>\n",
       "      <th>1</th>\n",
       "      <td>India</td>\n",
       "      <td>8636011.0</td>\n",
       "      <td>127571.0</td>\n",
       "    </tr>\n",
       "    <tr>\n",
       "      <th>2</th>\n",
       "      <td>Brazil</td>\n",
       "      <td>5664115.0</td>\n",
       "      <td>162397.0</td>\n",
       "    </tr>\n",
       "    <tr>\n",
       "      <th>3</th>\n",
       "      <td>France</td>\n",
       "      <td>1829659.0</td>\n",
       "      <td>42207.0</td>\n",
       "    </tr>\n",
       "    <tr>\n",
       "      <th>4</th>\n",
       "      <td>Russia</td>\n",
       "      <td>1817109.0</td>\n",
       "      <td>31161.0</td>\n",
       "    </tr>\n",
       "    <tr>\n",
       "      <th>5</th>\n",
       "      <td>Spain</td>\n",
       "      <td>1398613.0</td>\n",
       "      <td>39756.0</td>\n",
       "    </tr>\n",
       "    <tr>\n",
       "      <th>6</th>\n",
       "      <td>Argentina</td>\n",
       "      <td>1262462.0</td>\n",
       "      <td>34183.0</td>\n",
       "    </tr>\n",
       "    <tr>\n",
       "      <th>7</th>\n",
       "      <td>United Kingdom</td>\n",
       "      <td>1233775.0</td>\n",
       "      <td>49770.0</td>\n",
       "    </tr>\n",
       "    <tr>\n",
       "      <th>8</th>\n",
       "      <td>Colombia</td>\n",
       "      <td>1156675.0</td>\n",
       "      <td>33148.0</td>\n",
       "    </tr>\n",
       "    <tr>\n",
       "      <th>9</th>\n",
       "      <td>Italy</td>\n",
       "      <td>995463.0</td>\n",
       "      <td>42330.0</td>\n",
       "    </tr>\n",
       "  </tbody>\n",
       "</table>\n",
       "</div>"
      ],
      "text/plain": [
       "          Country  Total Cases  Total Deaths\n",
       "0   United States   10257826.0      239683.0\n",
       "1           India    8636011.0      127571.0\n",
       "2          Brazil    5664115.0      162397.0\n",
       "3          France    1829659.0       42207.0\n",
       "4          Russia    1817109.0       31161.0\n",
       "5           Spain    1398613.0       39756.0\n",
       "6       Argentina    1262462.0       34183.0\n",
       "7  United Kingdom    1233775.0       49770.0\n",
       "8        Colombia    1156675.0       33148.0\n",
       "9           Italy     995463.0       42330.0"
      ]
     },
     "execution_count": 6,
     "metadata": {},
     "output_type": "execute_result"
    }
   ],
   "source": [
    "#Create new dataframe with total cases and total deaths for the worst affected countries\n",
    "worst_affected_df = pd.DataFrame({'Country': worst_countries, 'Total Cases': cases, 'Total Deaths': deaths})\n",
    "worst_affected_df"
   ]
  },
  {
   "cell_type": "code",
   "execution_count": 7,
   "metadata": {},
   "outputs": [
    {
     "data": {
      "image/png": "[encoded data removed]",
      "text/plain": [
       "<Figure size 864x360 with 1 Axes>"
      ]
     },
     "metadata": {
      "needs_background": "light"
     },
     "output_type": "display_data"
    }
   ],
   "source": [
    "#Use pandas melt function to set Country as the identifier variable, and unpivot Total Cases & Deaths to the row axis\n",
    "worst_data = pd.melt(worst_affected_df, id_vars = ['Country'],  value_vars=['Total Cases', 'Total Deaths'], \n",
    "                var_name='Key', value_name='Case Count')\n",
    "\n",
    "#Plot the newly formatted dataframe as a barplot to visualize the total cases and deaths for each country\n",
    "plt.figure(figsize=(12, 5))\n",
    "sns.barplot(x=\"Country\", hue=\"Key\", y=\"Case Count\", data=worst_data)\n",
    "plt.title('Worst Affected Countries')\n",
    "plt.show()"
   ]
  },
  {
   "cell_type": "markdown",
   "metadata": {},
   "source": [
    "***It is evident that the United States is by far the worst affected country with almost 10 million total cases and close to 240,000 deaths. We can also see that while India has the second-highest number of cases, it has almost 35,000 less deaths than Brazil which currently has the third-highest amount of cases, and about 3 million less cases than India. France and Russia have almost the same amount of cases, but France has a moratality rate of about 2.3%, which is barely better than the US at 2.4%, and worse than Russia which currently has a mortality rate of approximately 1.7%. Spain, Argentina, the UK, Colombia, and Italy are relatively close in total amount of cases, but Italy and the UK both have mortality rates of over 4% wheres Spain, Argentina, and Columbia have roughly 2.8% mortality rates.***"
   ]
  },
  {
   "cell_type": "code",
   "execution_count": 8,
   "metadata": {},
   "outputs": [],
   "source": [
    "#Calculate Total Tests by Location\n",
    "total_tests = df.groupby('location')['new_tests'].sum().values\n",
    "#Get the Population for each Location\n",
    "population = df.groupby('location')['population'].nth(-1)\n",
    "\n",
    "#Calculate the Test Rate for the Countries with the Best Test Rate\n",
    "test_rate = (total_tests/population).sort_values(ascending = False)[:10]"
   ]
  },
  {
   "cell_type": "code",
   "execution_count": 9,
   "metadata": {},
   "outputs": [
    {
     "data": {
      "text/plain": [
       "location\n",
       "Luxembourg              1.807814\n",
       "United Arab Emirates    1.429438\n",
       "Denmark                 0.961479\n",
       "Bahrain                 0.873001\n",
       "Iceland                 0.570690\n",
       "Malta                   0.570156\n",
       "Cyprus                  0.568570\n",
       "Israel                  0.568201\n",
       "United States           0.475193\n",
       "Belgium                 0.455748\n",
       "Name: population, dtype: float64"
      ]
     },
     "execution_count": 9,
     "metadata": {},
     "output_type": "execute_result"
    }
   ],
   "source": [
    "#Check Data for Countries with the Best Test Rate\n",
    "test_rate"
   ]
  },
  {
   "cell_type": "code",
   "execution_count": 10,
   "metadata": {},
   "outputs": [
    {
     "data": {
      "image/png": "[encoded data removed]",
      "text/plain": [
       "<Figure size 720x360 with 1 Axes>"
      ]
     },
     "metadata": {
      "needs_background": "light"
     },
     "output_type": "display_data"
    }
   ],
   "source": [
    "plt.figure(figsize=(10, 5))\n",
    "sns.set_color_codes(\"deep\")\n",
    "sns.barplot(y = test_rate.index, x = test_rate.values, orient = \"h\", color=\"g\")\n",
    "plt.title('Highest Test Rate')\n",
    "plt.xlabel('Total Tests / Total Population')\n",
    "plt.ylabel('Country')\n",
    "plt.show()"
   ]
  },
  {
   "cell_type": "markdown",
   "metadata": {},
   "source": [
    "***Luxembourg and the UAE are doing exceptionally well having admininstered more tests than their entire populations! Denmark and Bahrain seem to have tested a great majority of their populations. Iceland, Malta, Cyprus, and Israel are also doing very well with over half their populations being tested while the US and Belgium are still shy of the 50% mark.***"
   ]
  },
  {
   "cell_type": "code",
   "execution_count": 11,
   "metadata": {},
   "outputs": [
    {
     "name": "stdout",
     "output_type": "stream",
     "text": [
      "           date  total_cases_x  total_cases_y  total_cases\n",
      "312  2020-11-07      9739545.0      8462080.0    5590025.0\n",
      "313  2020-11-08      9860958.0      8507754.0    5590025.0\n",
      "314  2020-11-09      9971651.0      8553657.0    5590025.0\n",
      "315  2020-11-10     10110552.0      8591730.0    5653561.0\n",
      "316  2020-11-11     10257826.0      8636011.0    5664115.0\n"
     ]
    }
   ],
   "source": [
    "#Create Separate Dataframes for the date & total_cases from the top 3 worst affected countries\n",
    "country1 = 'United States'\n",
    "country1_data = df.loc[df['location'] == country1]\n",
    "country1_cases = country1_data[['date','total_cases']]\n",
    "\n",
    "country2 = 'India'\n",
    "country2_data = df.loc[df['location'] == country2]\n",
    "country2_cases = country2_data[['date','total_cases']]\n",
    "\n",
    "country3 = 'Brazil'\n",
    "country3_data = df.loc[df['location'] == country3]\n",
    "country3_cases = country3_data[['date','total_cases']]\n",
    "\n",
    "#Merge all three datframes into a single dataframe using an ‘inner join’ operation on the date column\n",
    "datewise_cases = (country1_cases.merge(country2_cases, how = 'inner', on = 'date')).merge(country3_cases, how = 'inner', on = 'date') \n",
    "print(datewise_cases.tail())"
   ]
  },
  {
   "cell_type": "code",
   "execution_count": 12,
   "metadata": {},
   "outputs": [
    {
     "data": {
      "image/png": "[encoded data removed]",
      "text/plain": [
       "<Figure size 864x504 with 1 Axes>"
      ]
     },
     "metadata": {
      "needs_background": "light"
     },
     "output_type": "display_data"
    }
   ],
   "source": [
    "#Create a date series visualization with dates in increasing order on the X-axis, and number of cases on the Y-axis\n",
    "plt.figure(figsize=(12, 7))\n",
    "plt.plot(datewise_cases['date'].values, datewise_cases['total_cases_x'].values, color='red', label=country1)\n",
    "plt.plot(datewise_cases['date'].values, datewise_cases['total_cases_y'].values, color='blue', label=country2)\n",
    "plt.plot(datewise_cases['date'].values, datewise_cases['total_cases'].values, color='green', label=country3)\n",
    "plt.xticks([datewise_cases['date'][i] if i%10 == 0 else '' for i in range(len(datewise_cases.index))], rotation = 45)\n",
    "plt.xlabel('Date')\n",
    "plt.ylabel('Total Number of Cases')\n",
    "plt.title('Rate of Total COVID-19 Cases')\n",
    "plt.legend()\n",
    "plt.show()"
   ]
  },
  {
   "cell_type": "markdown",
   "metadata": {},
   "source": [
    "***Looking at the US from March-June, overall cases were steadily increasing, but after June cases begin to rapidly increase. There are several factors that might have contributed to this such as mass disinformation about the lethality of the virus and a lack of national leadership regarding stringency measures such as mandatory lockdowns, social-distancing, and mask madates. The US is now reporting almost 150,000 new cases daily which should be cause for alarm, since I established earlier that the US has a mortality rate of roughly 2.4%. This means that over 3,500 people are receiving a potential death sentence each day in the US! Meanwhile, India's cases were rapidly increasing over the summer, but now daily cases have begun to decrease to under 45,000 which is nearly half of their September peak. Brazil has suffered the second dealiest outbreak next to the United States with over 160,000 total deaths to date, but since September daily cases have been steadily decreasing, and Brazil is now reporting just over 10,000 daily cases.***"
   ]
  },
  {
   "cell_type": "code",
   "execution_count": 13,
   "metadata": {},
   "outputs": [
    {
     "data": {
      "text/html": [
       "<div>\n",
       "<style scoped>\n",
       "    .dataframe tbody tr th:only-of-type {\n",
       "        vertical-align: middle;\n",
       "    }\n",
       "\n",
       "    .dataframe tbody tr th {\n",
       "        vertical-align: top;\n",
       "    }\n",
       "\n",
       "    .dataframe thead th {\n",
       "        text-align: right;\n",
       "    }\n",
       "</style>\n",
       "<table border=\"1\" class=\"dataframe\">\n",
       "  <thead>\n",
       "    <tr style=\"text-align: right;\">\n",
       "      <th></th>\n",
       "      <th>Country</th>\n",
       "      <th>Total Cases</th>\n",
       "      <th>Population Density</th>\n",
       "      <th>Median Age</th>\n",
       "      <th>Diabetes Prevelance</th>\n",
       "      <th>Stringency Index</th>\n",
       "      <th>Cardiovascular Death Rate</th>\n",
       "      <th>Aged 65 or Older</th>\n",
       "      <th>Aged 70 or Older</th>\n",
       "    </tr>\n",
       "  </thead>\n",
       "  <tbody>\n",
       "    <tr>\n",
       "      <th>0</th>\n",
       "      <td>United States</td>\n",
       "      <td>10257826.0</td>\n",
       "      <td>35.608</td>\n",
       "      <td>38.3</td>\n",
       "      <td>10.79</td>\n",
       "      <td>53.478786</td>\n",
       "      <td>151.089</td>\n",
       "      <td>15.413</td>\n",
       "      <td>9.732</td>\n",
       "    </tr>\n",
       "    <tr>\n",
       "      <th>1</th>\n",
       "      <td>India</td>\n",
       "      <td>8636011.0</td>\n",
       "      <td>450.419</td>\n",
       "      <td>28.2</td>\n",
       "      <td>10.39</td>\n",
       "      <td>62.839841</td>\n",
       "      <td>282.280</td>\n",
       "      <td>5.989</td>\n",
       "      <td>3.414</td>\n",
       "    </tr>\n",
       "    <tr>\n",
       "      <th>2</th>\n",
       "      <td>Brazil</td>\n",
       "      <td>5664115.0</td>\n",
       "      <td>25.040</td>\n",
       "      <td>33.5</td>\n",
       "      <td>8.11</td>\n",
       "      <td>56.870255</td>\n",
       "      <td>177.961</td>\n",
       "      <td>8.552</td>\n",
       "      <td>5.060</td>\n",
       "    </tr>\n",
       "    <tr>\n",
       "      <th>3</th>\n",
       "      <td>France</td>\n",
       "      <td>1829659.0</td>\n",
       "      <td>122.578</td>\n",
       "      <td>42.0</td>\n",
       "      <td>4.77</td>\n",
       "      <td>51.332038</td>\n",
       "      <td>86.060</td>\n",
       "      <td>19.718</td>\n",
       "      <td>13.079</td>\n",
       "    </tr>\n",
       "    <tr>\n",
       "      <th>4</th>\n",
       "      <td>Russia</td>\n",
       "      <td>1817109.0</td>\n",
       "      <td>8.823</td>\n",
       "      <td>39.6</td>\n",
       "      <td>6.18</td>\n",
       "      <td>51.279586</td>\n",
       "      <td>431.297</td>\n",
       "      <td>14.178</td>\n",
       "      <td>9.393</td>\n",
       "    </tr>\n",
       "    <tr>\n",
       "      <th>5</th>\n",
       "      <td>Spain</td>\n",
       "      <td>1398613.0</td>\n",
       "      <td>93.105</td>\n",
       "      <td>45.5</td>\n",
       "      <td>7.17</td>\n",
       "      <td>53.140809</td>\n",
       "      <td>99.403</td>\n",
       "      <td>19.436</td>\n",
       "      <td>13.799</td>\n",
       "    </tr>\n",
       "    <tr>\n",
       "      <th>6</th>\n",
       "      <td>Argentina</td>\n",
       "      <td>1262462.0</td>\n",
       "      <td>16.177</td>\n",
       "      <td>31.9</td>\n",
       "      <td>5.50</td>\n",
       "      <td>86.213537</td>\n",
       "      <td>191.032</td>\n",
       "      <td>11.198</td>\n",
       "      <td>7.441</td>\n",
       "    </tr>\n",
       "    <tr>\n",
       "      <th>7</th>\n",
       "      <td>United Kingdom</td>\n",
       "      <td>1233775.0</td>\n",
       "      <td>272.898</td>\n",
       "      <td>40.8</td>\n",
       "      <td>4.28</td>\n",
       "      <td>54.550452</td>\n",
       "      <td>122.137</td>\n",
       "      <td>18.517</td>\n",
       "      <td>12.527</td>\n",
       "    </tr>\n",
       "    <tr>\n",
       "      <th>8</th>\n",
       "      <td>Colombia</td>\n",
       "      <td>1156675.0</td>\n",
       "      <td>44.223</td>\n",
       "      <td>32.2</td>\n",
       "      <td>7.44</td>\n",
       "      <td>78.611903</td>\n",
       "      <td>124.240</td>\n",
       "      <td>7.646</td>\n",
       "      <td>4.312</td>\n",
       "    </tr>\n",
       "    <tr>\n",
       "      <th>9</th>\n",
       "      <td>Italy</td>\n",
       "      <td>995463.0</td>\n",
       "      <td>205.859</td>\n",
       "      <td>47.9</td>\n",
       "      <td>4.78</td>\n",
       "      <td>54.754204</td>\n",
       "      <td>113.151</td>\n",
       "      <td>23.021</td>\n",
       "      <td>16.240</td>\n",
       "    </tr>\n",
       "  </tbody>\n",
       "</table>\n",
       "</div>"
      ],
      "text/plain": [
       "          Country  Total Cases  Population Density  Median Age  \\\n",
       "0   United States   10257826.0              35.608        38.3   \n",
       "1           India    8636011.0             450.419        28.2   \n",
       "2          Brazil    5664115.0              25.040        33.5   \n",
       "3          France    1829659.0             122.578        42.0   \n",
       "4          Russia    1817109.0               8.823        39.6   \n",
       "5           Spain    1398613.0              93.105        45.5   \n",
       "6       Argentina    1262462.0              16.177        31.9   \n",
       "7  United Kingdom    1233775.0             272.898        40.8   \n",
       "8        Colombia    1156675.0              44.223        32.2   \n",
       "9           Italy     995463.0             205.859        47.9   \n",
       "\n",
       "   Diabetes Prevelance  Stringency Index  Cardiovascular Death Rate  \\\n",
       "0                10.79         53.478786                    151.089   \n",
       "1                10.39         62.839841                    282.280   \n",
       "2                 8.11         56.870255                    177.961   \n",
       "3                 4.77         51.332038                     86.060   \n",
       "4                 6.18         51.279586                    431.297   \n",
       "5                 7.17         53.140809                     99.403   \n",
       "6                 5.50         86.213537                    191.032   \n",
       "7                 4.28         54.550452                    122.137   \n",
       "8                 7.44         78.611903                    124.240   \n",
       "9                 4.78         54.754204                    113.151   \n",
       "\n",
       "   Aged 65 or Older  Aged 70 or Older  \n",
       "0            15.413             9.732  \n",
       "1             5.989             3.414  \n",
       "2             8.552             5.060  \n",
       "3            19.718            13.079  \n",
       "4            14.178             9.393  \n",
       "5            19.436            13.799  \n",
       "6            11.198             7.441  \n",
       "7            18.517            12.527  \n",
       "8             7.646             4.312  \n",
       "9            23.021            16.240  "
      ]
     },
     "execution_count": 13,
     "metadata": {},
     "output_type": "execute_result"
    }
   ],
   "source": [
    "#Create a dataframe for the worst countries to add features for correlation analysis\n",
    "df_corr = pd.DataFrame(worst_countries.values, columns = ['Country'])\n",
    "df_corr['Total Cases'] = cases\n",
    "\n",
    "#Define Population Density for each country\n",
    "pop_density = df.groupby('location')['population_density'].nth(-1)\n",
    "df_corr['Population Density'] = pop_density[worst_countries].values\n",
    "\n",
    "#Define Median Age for each country\n",
    "median_age = df.groupby('location')['median_age'].nth(-1)\n",
    "df_corr['Median Age'] = median_age[worst_countries].values\n",
    "\n",
    "#Define Diabetes Prevalence for each country\n",
    "diabetes_prevalence = df.groupby('location')['diabetes_prevalence'].nth(-1)\n",
    "df_corr['Diabetes Prevelance'] = diabetes_prevalence[worst_countries].values\n",
    "\n",
    "#Define Stringency Index for each country\n",
    "stringency_index = df.groupby('location')['stringency_index'].mean()\n",
    "df_corr['Stringency Index'] = stringency_index[worst_countries].values\n",
    "\n",
    "#Define Cardiovascular Death Rate for each country\n",
    "cvd_death_rate = df.groupby('location')['cardiovasc_death_rate'].nth(-1)\n",
    "df_corr['Cardiovascular Death Rate'] = cvd_death_rate[worst_countries].values\n",
    "\n",
    "#Define Proportion of Cases affecting those Aged 65 or Older\n",
    "aged_65_older = df.groupby('location')['aged_65_older'].nth(-1)\n",
    "df_corr['Aged 65 or Older'] = aged_65_older[worst_countries].values\n",
    "\n",
    "#Define Proportion of Cases affecting those Aged 70 or Older\n",
    "aged_70_older = df.groupby('location')['aged_70_older'].nth(-1)\n",
    "df_corr['Aged 70 or Older'] = aged_70_older[worst_countries].values\n",
    "\n",
    "#View dataframe to verify features\n",
    "df_corr"
   ]
  },
  {
   "cell_type": "code",
   "execution_count": 14,
   "metadata": {},
   "outputs": [
    {
     "data": {
      "image/png": "[encoded data removed]",
      "text/plain": [
       "<Figure size 432x288 with 2 Axes>"
      ]
     },
     "metadata": {
      "needs_background": "light"
     },
     "output_type": "display_data"
    }
   ],
   "source": [
    "#Use pandas corr function to calculate the correlation of the features to the Total Cases and visualize with a heatmap\n",
    "heatmap_df = pd.DataFrame({'Correlation Coefficients': df_corr.corr()['Total Cases'].values}, index = df_corr.corr()['Total Cases'].index)\n",
    "sns.heatmap(heatmap_df, annot=True)\n",
    "plt.show()"
   ]
  },
  {
   "cell_type": "markdown",
   "metadata": {},
   "source": [
    "***Analyzing this heatmap, it is clear that Diabetes Prevalance (r=0.89) has a very strong uphill (positive) linear relationship with the number of Total Cases reported in each country. While Cardiovascular Deate Rate has a positive relationship (r=0.19), it's not enough confidently establish a meaningful correlation between Cardiovascular Death Rate and Total Cases. Another intersting observation is that Median Age (r=-0.44), Proportion of Cases Among Those 65 or Older (r=-0.42), and Proportion of Cases Among Those 70 or Older (r=-0.44) have moderate-weak downhill (negative) linear relationships with the number of Total Cases.***"
   ]
  },
  {
   "cell_type": "markdown",
   "metadata": {},
   "source": [
    "***Notes for Further Data Analysis:***\n",
    "\n",
    "***More feature selection for correlation of population metrics to Total Deaths or Mortality Rates***\n",
    "\n",
    "***Analysis of Least Affected Countries***\n"
   ]
  }
 ],
 "metadata": {
  "kernelspec": {
   "display_name": "Python 3",
   "language": "python",
   "name": "python3"
  },
  "language_info": {
   "codemirror_mode": {
    "name": "ipython",
    "version": 3
   },
   "file_extension": ".py",
   "mimetype": "text/x-python",
   "name": "python",
   "nbconvert_exporter": "python",
   "pygments_lexer": "ipython3",
   "version": "3.8.5"
  }
 },
 "nbformat": 4,
 "nbformat_minor": 4
}
